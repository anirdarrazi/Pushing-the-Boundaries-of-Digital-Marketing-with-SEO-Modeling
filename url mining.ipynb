{
 "cells": [
  {
   "cell_type": "code",
   "execution_count": 11,
   "metadata": {},
   "outputs": [],
   "source": [
    "import json\n",
    "import csv"
   ]
  },
  {
   "cell_type": "code",
   "execution_count": 3,
   "metadata": {},
   "outputs": [],
   "source": [
    "part = 1  # Choose the part of the data you want to extract the URLs from\n",
    "\n",
    "with open(\"serp_data_\" + str(part) + \".json\", 'r') as file:\n",
    "    serp_data = json.load(file)\n",
    "\n",
    "urls = []\n",
    "\n",
    "try:\n",
    "    for entry in serp_data:\n",
    "        if len(entry) >= 4 and isinstance(entry[3], dict):\n",
    "            tasks = entry[3].get(\"tasks\", [])\n",
    "            for task in tasks:\n",
    "                results = task.get(\"result\")\n",
    "                if isinstance(results, list):  # Ensure that results is a list before iterating\n",
    "                    for result in results:\n",
    "                        items = result.get(\"items\", [])\n",
    "                        for item in items:\n",
    "                            url = item.get(\"url\")\n",
    "                            if url:\n",
    "                                urls.append(url)\n",
    "except KeyError as e:\n",
    "    print(f\"Key error: {e}\")\n",
    "except IndexError as e:\n",
    "    print(f\"Index error: {e}\")\n",
    "\n",
    "csv_file = \"urls_data_\" + str(part) + \".csv\"\n",
    "with open(csv_file, 'w', newline='', encoding='utf-8') as file:\n",
    "    writer = csv.writer(file, delimiter='\\t')  # Use tab as the delimiter\n",
    "    writer.writerow(['URL'])  # Writing header\n",
    "    for url in urls:\n",
    "        writer.writerow([url])"
   ]
  },
  {
   "cell_type": "code",
   "execution_count": 12,
   "metadata": {},
   "outputs": [
    {
     "name": "stdout",
     "output_type": "stream",
     "text": [
      "An error occurred: 'NoneType' object is not iterable\n"
     ]
    }
   ],
   "source": [
    "\n",
    "for part in range(20, 21):  # Looping through numbers 20 to 20\n",
    "    try:\n",
    "        with open(f\"serp_data_{part}.json\", 'r') as file:\n",
    "            serp_data = json.load(file)\n",
    "\n",
    "        urls = []\n",
    "\n",
    "        for entry in serp_data:\n",
    "            if len(entry) >= 4 and isinstance(entry[3], dict):\n",
    "                tasks = entry[3].get(\"tasks\", [])\n",
    "                for task in tasks:\n",
    "                    results = task.get(\"result\")\n",
    "                    if isinstance(results, list):\n",
    "                        for result in results:\n",
    "                            items = result.get(\"items\", [])\n",
    "                            for item in items:\n",
    "                                url = item.get(\"url\")\n",
    "                                if url:\n",
    "                                    urls.append(url)\n",
    "\n",
    "        csv_file = f\"urls_data_{part}.csv\"\n",
    "        with open(csv_file, 'w', newline='', encoding='utf-8') as file:\n",
    "            writer = csv.writer(file, delimiter='\\t')\n",
    "            writer.writerow(['URL'])\n",
    "            for url in urls:\n",
    "                writer.writerow([url])\n",
    "\n",
    "        print(f\"URLs from part {part} have been exported to {csv_file}\")\n",
    "\n",
    "    except FileNotFoundError:\n",
    "        print(f\"File serp_data_{part}.json not found.\")\n",
    "    except json.JSONDecodeError:\n",
    "        print(f\"Error decoding JSON in file serp_data_{part}.json.\")\n",
    "    except Exception as e:\n",
    "        print(f\"An error occurred: {e}\")\n"
   ]
  },
  {
   "cell_type": "code",
   "execution_count": 13,
   "metadata": {},
   "outputs": [
    {
     "name": "stdout",
     "output_type": "stream",
     "text": [
      "URLs from part 20 have been exported to urls_data_20.csv\n"
     ]
    }
   ],
   "source": [
    "for part in range(20, 21):  # Looping through numbers 7 to 18\n",
    "    try:\n",
    "        with open(f\"serp_data_{part}.json\", 'r') as file:\n",
    "            serp_data = json.load(file)\n",
    "\n",
    "        urls = []\n",
    "\n",
    "        for entry in serp_data:\n",
    "            if len(entry) >= 4 and isinstance(entry[3], dict):\n",
    "                tasks = entry[3].get(\"tasks\", [])\n",
    "                if not isinstance(tasks, list):  # Check if tasks is a list\n",
    "                    continue\n",
    "                for task in tasks:\n",
    "                    results = task.get(\"result\")\n",
    "                    if not isinstance(results, list):  # Check if results is a list\n",
    "                        continue\n",
    "                    for result in results:\n",
    "                        items = result.get(\"items\", [])\n",
    "                        if not isinstance(items, list):  # Check if items is a list\n",
    "                            continue\n",
    "                        for item in items:\n",
    "                            url = item.get(\"url\")\n",
    "                            if url:\n",
    "                                urls.append(url)\n",
    "\n",
    "        csv_file = f\"urls_data_{part}.csv\"\n",
    "        with open(csv_file, 'w', newline='', encoding='utf-8') as file:\n",
    "            writer = csv.writer(file, delimiter='\\t')\n",
    "            writer.writerow(['URL'])\n",
    "            for url in urls:\n",
    "                writer.writerow([url])\n",
    "\n",
    "        print(f\"URLs from part {part} have been exported to {csv_file}\")\n",
    "\n",
    "    except FileNotFoundError:\n",
    "        print(f\"File serp_data_{part}.json not found.\")\n",
    "    except json.JSONDecodeError:\n",
    "        print(f\"Error decoding JSON in file serp_data_{part}.json.\")\n",
    "    except Exception as e:\n",
    "        print(f\"An error occurred for part {part}: {e}\")"
   ]
  }
 ],
 "metadata": {
  "kernelspec": {
   "display_name": "base",
   "language": "python",
   "name": "python3"
  },
  "language_info": {
   "codemirror_mode": {
    "name": "ipython",
    "version": 3
   },
   "file_extension": ".py",
   "mimetype": "text/x-python",
   "name": "python",
   "nbconvert_exporter": "python",
   "pygments_lexer": "ipython3",
   "version": "3.9.13"
  }
 },
 "nbformat": 4,
 "nbformat_minor": 2
}
